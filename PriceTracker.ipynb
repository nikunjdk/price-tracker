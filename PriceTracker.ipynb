{
 "cells": [
  {
   "cell_type": "code",
   "execution_count": 81,
   "id": "da165c68-26b1-480c-976a-e98c7af20337",
   "metadata": {},
   "outputs": [],
   "source": [
    "import requests\n",
    "import re\n",
    "import pandas as pd\n",
    "from bs4 import BeautifulSoup"
   ]
  },
  {
   "cell_type": "code",
   "execution_count": 82,
   "id": "04ca405f-22d2-4ac3-bdf6-935080f0af14",
   "metadata": {},
   "outputs": [],
   "source": [
    "dataframe = pd.read_excel(\"Gem comparison products copy.xlsx\")\n",
    "dataframe = dataframe.loc[:, ['URL', 'CURRENT PRICE']]\n",
    "p_index = 2"
   ]
  },
  {
   "cell_type": "code",
   "execution_count": 83,
   "id": "37edfdf0",
   "metadata": {},
   "outputs": [
    {
     "data": {
      "text/html": [
       "<div>\n",
       "<style scoped>\n",
       "    .dataframe tbody tr th:only-of-type {\n",
       "        vertical-align: middle;\n",
       "    }\n",
       "\n",
       "    .dataframe tbody tr th {\n",
       "        vertical-align: top;\n",
       "    }\n",
       "\n",
       "    .dataframe thead th {\n",
       "        text-align: right;\n",
       "    }\n",
       "</style>\n",
       "<table border=\"1\" class=\"dataframe\">\n",
       "  <thead>\n",
       "    <tr style=\"text-align: right;\">\n",
       "      <th></th>\n",
       "      <th>URL</th>\n",
       "      <th>CURRENT PRICE</th>\n",
       "    </tr>\n",
       "  </thead>\n",
       "  <tbody>\n",
       "    <tr>\n",
       "      <th>0</th>\n",
       "      <td>https://mkp.gem.gov.in/mcb-miniature-circuit-b...</td>\n",
       "      <td>0</td>\n",
       "    </tr>\n",
       "    <tr>\n",
       "      <th>1</th>\n",
       "      <td>https://mkp.gem.gov.in/mcb-miniature-circuit-b...</td>\n",
       "      <td>0</td>\n",
       "    </tr>\n",
       "    <tr>\n",
       "      <th>2</th>\n",
       "      <td>http://mkp.gem.gov.in/mcb-miniature-circuit-br...</td>\n",
       "      <td>0</td>\n",
       "    </tr>\n",
       "    <tr>\n",
       "      <th>3</th>\n",
       "      <td>https://mkp.gem.gov.in/mcb-miniature-circuit-b...</td>\n",
       "      <td>0</td>\n",
       "    </tr>\n",
       "  </tbody>\n",
       "</table>\n",
       "</div>"
      ],
      "text/plain": [
       "                                                 URL  CURRENT PRICE\n",
       "0  https://mkp.gem.gov.in/mcb-miniature-circuit-b...              0\n",
       "1  https://mkp.gem.gov.in/mcb-miniature-circuit-b...              0\n",
       "2  http://mkp.gem.gov.in/mcb-miniature-circuit-br...              0\n",
       "3  https://mkp.gem.gov.in/mcb-miniature-circuit-b...              0"
      ]
     },
     "execution_count": 83,
     "metadata": {},
     "output_type": "execute_result"
    }
   ],
   "source": [
    "dataframe.head()"
   ]
  },
  {
   "cell_type": "code",
   "execution_count": 84,
   "id": "0fcb9ad2-b880-46cf-8516-68db25154169",
   "metadata": {},
   "outputs": [
    {
     "name": "stdout",
     "output_type": "stream",
     "text": [
      "http://mkp.gem.gov.in/mcb-miniature-circuit-breakers-c-operation-per-iec/16a-fp-c-mcb/p-5116877-76167892508-cat.html\n"
     ]
    }
   ],
   "source": [
    "product_url = dataframe[\"URL\"][p_index]\n",
    "print(product_url)"
   ]
  },
  {
   "cell_type": "code",
   "execution_count": 85,
   "id": "a24ef6f5-eff7-427c-b6d8-4a18bae4bc80",
   "metadata": {},
   "outputs": [],
   "source": [
    "product_url = \"https://mkp.gem.gov.in/mcb-miniature-circuit-breakers-c-operation-per-iec/3a-tpn-c-mcb/p-5116877-6726934656-cat.html#variant_id=5116877-6726934656\""
   ]
  },
  {
   "cell_type": "code",
   "execution_count": 86,
   "id": "4f7cebef",
   "metadata": {},
   "outputs": [],
   "source": [
    "# product_url = \"https://mkp.gem.gov.in/mcb-miniature-circuit-breakers-c-operation-per-iec/20a-sp-c-mcb/p-5116877-295066335-cat.html#variant_id=5116877-295066335\""
   ]
  },
  {
   "cell_type": "code",
   "execution_count": 87,
   "id": "2baf1d13-c907-40ab-8f23-64d97e19149b",
   "metadata": {},
   "outputs": [],
   "source": [
    "competitors_url = re.sub(\".html.*\", \"/all_sellers.html\", product_url)"
   ]
  },
  {
   "cell_type": "code",
   "execution_count": 88,
   "id": "8edea2bb-71ab-4f51-8e69-f17deb73cb50",
   "metadata": {},
   "outputs": [],
   "source": [
    "competitors_url_response = requests.get(competitors_url)"
   ]
  },
  {
   "cell_type": "code",
   "execution_count": 89,
   "id": "53cafee9-ab9b-4a19-82cb-4b7045c5d987",
   "metadata": {},
   "outputs": [],
   "source": [
    "competitors_url_soup = BeautifulSoup(competitors_url_response.content, 'html.parser')"
   ]
  },
  {
   "cell_type": "code",
   "execution_count": 90,
   "id": "38b31410-adbb-4be6-98b8-bb67f5ce2db7",
   "metadata": {},
   "outputs": [],
   "source": [
    "competitors_prices_table = competitors_url_soup.find('div', attrs={'id': 'sellers-table-wrap'})\n",
    "competitors_prices_table = competitors_prices_table.find('table')\n",
    "for div in competitors_prices_table.find_all(\"div\", {'class':'seller-info-table'}):\n",
    "    div.decompose()"
   ]
  },
  {
   "cell_type": "code",
   "execution_count": 91,
   "id": "4ec8224a-af65-419a-9294-fa9c48651e00",
   "metadata": {},
   "outputs": [],
   "source": [
    "table_rows = competitors_prices_table.find_all('tr')\n",
    "\n",
    "res = []\n",
    "for i, tr in enumerate(table_rows):\n",
    "    td = tr.find_all('td')\n",
    "    row = [tr.text.strip() for tr in td]\n",
    "    if row:\n",
    "        res.append(row)\n",
    "\n",
    "df = pd.DataFrame(res, columns=[\"Sellers\", \"Offer Price\", \"Delivery Locations\", \"Quantity based Discount\", \"Quantity Available\", \"Min Quantity / Consignee\", \"Offer Product As\", \"Country of Origin\"])\n",
    "df = df[[\"Offer Price\", \"Delivery Locations\", \"Quantity based Discount\", \"Min Quantity / Consignee\"]]"
   ]
  },
  {
   "cell_type": "code",
   "execution_count": 92,
   "id": "1fdcc552",
   "metadata": {},
   "outputs": [
    {
     "data": {
      "text/html": [
       "<div>\n",
       "<style scoped>\n",
       "    .dataframe tbody tr th:only-of-type {\n",
       "        vertical-align: middle;\n",
       "    }\n",
       "\n",
       "    .dataframe tbody tr th {\n",
       "        vertical-align: top;\n",
       "    }\n",
       "\n",
       "    .dataframe thead th {\n",
       "        text-align: right;\n",
       "    }\n",
       "</style>\n",
       "<table border=\"1\" class=\"dataframe\">\n",
       "  <thead>\n",
       "    <tr style=\"text-align: right;\">\n",
       "      <th></th>\n",
       "      <th>Offer Price</th>\n",
       "      <th>Delivery Locations</th>\n",
       "      <th>Quantity based Discount</th>\n",
       "      <th>Min Quantity / Consignee</th>\n",
       "    </tr>\n",
       "  </thead>\n",
       "  <tbody>\n",
       "    <tr>\n",
       "      <th>0</th>\n",
       "      <td>₹2,349.99</td>\n",
       "      <td>All India</td>\n",
       "      <td></td>\n",
       "      <td>15</td>\n",
       "    </tr>\n",
       "    <tr>\n",
       "      <th>1</th>\n",
       "      <td>₹2,358.00</td>\n",
       "      <td>State(s) - WEST BENGAL, BIHAR, SIKKIM, ODISHA,...</td>\n",
       "      <td></td>\n",
       "      <td>1</td>\n",
       "    </tr>\n",
       "  </tbody>\n",
       "</table>\n",
       "</div>"
      ],
      "text/plain": [
       "  Offer Price                                 Delivery Locations  \\\n",
       "0   ₹2,349.99                                          All India   \n",
       "1   ₹2,358.00  State(s) - WEST BENGAL, BIHAR, SIKKIM, ODISHA,...   \n",
       "\n",
       "  Quantity based Discount Min Quantity / Consignee  \n",
       "0                                               15  \n",
       "1                                                1  "
      ]
     },
     "execution_count": 92,
     "metadata": {},
     "output_type": "execute_result"
    }
   ],
   "source": [
    "df"
   ]
  },
  {
   "cell_type": "code",
   "execution_count": 93,
   "id": "5b10bb09",
   "metadata": {},
   "outputs": [],
   "source": [
    "delivery_locations_regex = \"|\".join([\"TAMIL NADU\", \"All India\"])\n",
    "competitors_details = df[\n",
    "    df[\"Delivery Locations\"].str.contains(delivery_locations_regex)\n",
    "]"
   ]
  },
  {
   "cell_type": "code",
   "execution_count": 94,
   "id": "306d450a-c806-4871-b34c-3d440596c81f",
   "metadata": {},
   "outputs": [
    {
     "data": {
      "text/html": [
       "<div>\n",
       "<style scoped>\n",
       "    .dataframe tbody tr th:only-of-type {\n",
       "        vertical-align: middle;\n",
       "    }\n",
       "\n",
       "    .dataframe tbody tr th {\n",
       "        vertical-align: top;\n",
       "    }\n",
       "\n",
       "    .dataframe thead th {\n",
       "        text-align: right;\n",
       "    }\n",
       "</style>\n",
       "<table border=\"1\" class=\"dataframe\">\n",
       "  <thead>\n",
       "    <tr style=\"text-align: right;\">\n",
       "      <th></th>\n",
       "      <th>Offer Price</th>\n",
       "      <th>Delivery Locations</th>\n",
       "      <th>Quantity based Discount</th>\n",
       "      <th>Min Quantity / Consignee</th>\n",
       "    </tr>\n",
       "  </thead>\n",
       "  <tbody>\n",
       "    <tr>\n",
       "      <th>0</th>\n",
       "      <td>₹2,349.99</td>\n",
       "      <td>All India</td>\n",
       "      <td></td>\n",
       "      <td>15</td>\n",
       "    </tr>\n",
       "  </tbody>\n",
       "</table>\n",
       "</div>"
      ],
      "text/plain": [
       "  Offer Price Delivery Locations Quantity based Discount  \\\n",
       "0   ₹2,349.99          All India                           \n",
       "\n",
       "  Min Quantity / Consignee  \n",
       "0                       15  "
      ]
     },
     "execution_count": 94,
     "metadata": {},
     "output_type": "execute_result"
    }
   ],
   "source": [
    "competitors_details"
   ]
  },
  {
   "cell_type": "code",
   "execution_count": 95,
   "id": "49014126-5152-4d2a-b12e-6f9598f22b3a",
   "metadata": {},
   "outputs": [
    {
     "name": "stderr",
     "output_type": "stream",
     "text": [
      "C:\\Users\\nikun\\AppData\\Local\\Temp\\ipykernel_10276\\717331536.py:1: SettingWithCopyWarning: \n",
      "A value is trying to be set on a copy of a slice from a DataFrame.\n",
      "Try using .loc[row_indexer,col_indexer] = value instead\n",
      "\n",
      "See the caveats in the documentation: https://pandas.pydata.org/pandas-docs/stable/user_guide/indexing.html#returning-a-view-versus-a-copy\n",
      "  competitors_details[\"Offer Price\"] = (\n",
      "C:\\Users\\nikun\\AppData\\Local\\Temp\\ipykernel_10276\\717331536.py:4: SettingWithCopyWarning: \n",
      "A value is trying to be set on a copy of a slice from a DataFrame.\n",
      "Try using .loc[row_indexer,col_indexer] = value instead\n",
      "\n",
      "See the caveats in the documentation: https://pandas.pydata.org/pandas-docs/stable/user_guide/indexing.html#returning-a-view-versus-a-copy\n",
      "  competitors_details[\"Offer Price\"] = (\n"
     ]
    }
   ],
   "source": [
    "competitors_details[\"Offer Price\"] = (\n",
    "    competitors_details[\"Offer Price\"].str.slice(1)\n",
    ")\n",
    "competitors_details[\"Offer Price\"] = (\n",
    "    competitors_details[\"Offer Price\"].str.replace(\",\", \"\").astype(float)\n",
    ")"
   ]
  },
  {
   "cell_type": "code",
   "execution_count": 96,
   "id": "2672cdc8",
   "metadata": {},
   "outputs": [],
   "source": [
    "def determine_final_price(row):\n",
    "    discount_info = row[\"Quantity based Discount\"]\n",
    "\n",
    "    if discount_info == \"\":\n",
    "        return row[\"Offer Price\"]\n",
    "\n",
    "    discounts = discount_info.split(\"\\n\")\n",
    "    final_price = row[\"Offer Price\"]\n",
    "\n",
    "    for discount_entry in discounts:\n",
    "        discount_entry = discount_entry.strip()\n",
    "        parts = discount_entry.split(\" \")\n",
    "        discount = float(parts[5][1:].replace(\",\", \"\"))\n",
    "        price = row[\"Offer Price\"] - discount\n",
    "        min_quantity = int(parts[0])\n",
    "\n",
    "        if price * min_quantity <= 25000 and price < final_price:\n",
    "            final_price = price\n",
    "\n",
    "    return final_price"
   ]
  },
  {
   "cell_type": "code",
   "execution_count": 97,
   "id": "8aca47a6",
   "metadata": {},
   "outputs": [
    {
     "name": "stderr",
     "output_type": "stream",
     "text": [
      "C:\\Users\\nikun\\AppData\\Local\\Temp\\ipykernel_10276\\3674593290.py:1: SettingWithCopyWarning: \n",
      "A value is trying to be set on a copy of a slice from a DataFrame.\n",
      "Try using .loc[row_indexer,col_indexer] = value instead\n",
      "\n",
      "See the caveats in the documentation: https://pandas.pydata.org/pandas-docs/stable/user_guide/indexing.html#returning-a-view-versus-a-copy\n",
      "  competitors_details[\"Final Price\"] = competitors_details.apply(\n"
     ]
    }
   ],
   "source": [
    "competitors_details[\"Final Price\"] = competitors_details.apply(\n",
    "    determine_final_price, axis=1\n",
    ")"
   ]
  },
  {
   "cell_type": "code",
   "execution_count": 98,
   "id": "1502d6f8",
   "metadata": {},
   "outputs": [
    {
     "data": {
      "text/html": [
       "<div>\n",
       "<style scoped>\n",
       "    .dataframe tbody tr th:only-of-type {\n",
       "        vertical-align: middle;\n",
       "    }\n",
       "\n",
       "    .dataframe tbody tr th {\n",
       "        vertical-align: top;\n",
       "    }\n",
       "\n",
       "    .dataframe thead th {\n",
       "        text-align: right;\n",
       "    }\n",
       "</style>\n",
       "<table border=\"1\" class=\"dataframe\">\n",
       "  <thead>\n",
       "    <tr style=\"text-align: right;\">\n",
       "      <th></th>\n",
       "      <th>Offer Price</th>\n",
       "      <th>Delivery Locations</th>\n",
       "      <th>Quantity based Discount</th>\n",
       "      <th>Min Quantity / Consignee</th>\n",
       "      <th>Final Price</th>\n",
       "    </tr>\n",
       "  </thead>\n",
       "  <tbody>\n",
       "    <tr>\n",
       "      <th>0</th>\n",
       "      <td>2349.99</td>\n",
       "      <td>All India</td>\n",
       "      <td></td>\n",
       "      <td>15</td>\n",
       "      <td>2349.99</td>\n",
       "    </tr>\n",
       "  </tbody>\n",
       "</table>\n",
       "</div>"
      ],
      "text/plain": [
       "   Offer Price Delivery Locations Quantity based Discount  \\\n",
       "0      2349.99          All India                           \n",
       "\n",
       "  Min Quantity / Consignee  Final Price  \n",
       "0                       15      2349.99  "
      ]
     },
     "execution_count": 98,
     "metadata": {},
     "output_type": "execute_result"
    }
   ],
   "source": [
    "competitors_details"
   ]
  },
  {
   "cell_type": "code",
   "execution_count": 99,
   "id": "6c00ade2",
   "metadata": {},
   "outputs": [],
   "source": [
    "# Drop rows where Min Quantity * Offer Price exceeds 25000\n",
    "competitors_details = competitors_details[\n",
    "    competitors_details[\"Min Quantity / Consignee\"].astype(int) * competitors_details[\"Offer Price\"]\n",
    "    <= 25000\n",
    "]"
   ]
  },
  {
   "cell_type": "code",
   "execution_count": 100,
   "id": "cb674ac6",
   "metadata": {},
   "outputs": [
    {
     "data": {
      "text/html": [
       "<div>\n",
       "<style scoped>\n",
       "    .dataframe tbody tr th:only-of-type {\n",
       "        vertical-align: middle;\n",
       "    }\n",
       "\n",
       "    .dataframe tbody tr th {\n",
       "        vertical-align: top;\n",
       "    }\n",
       "\n",
       "    .dataframe thead th {\n",
       "        text-align: right;\n",
       "    }\n",
       "</style>\n",
       "<table border=\"1\" class=\"dataframe\">\n",
       "  <thead>\n",
       "    <tr style=\"text-align: right;\">\n",
       "      <th></th>\n",
       "      <th>Offer Price</th>\n",
       "      <th>Delivery Locations</th>\n",
       "      <th>Quantity based Discount</th>\n",
       "      <th>Min Quantity / Consignee</th>\n",
       "      <th>Final Price</th>\n",
       "    </tr>\n",
       "  </thead>\n",
       "  <tbody>\n",
       "  </tbody>\n",
       "</table>\n",
       "</div>"
      ],
      "text/plain": [
       "Empty DataFrame\n",
       "Columns: [Offer Price, Delivery Locations, Quantity based Discount, Min Quantity / Consignee, Final Price]\n",
       "Index: []"
      ]
     },
     "execution_count": 100,
     "metadata": {},
     "output_type": "execute_result"
    }
   ],
   "source": [
    "competitors_details"
   ]
  },
  {
   "cell_type": "code",
   "execution_count": 101,
   "id": "a9be727f",
   "metadata": {},
   "outputs": [],
   "source": [
    "# for index, row in filtered_df.iterrows():\n",
    "#     if row[\"Quantity based Discount\"] != \"\":\n",
    "#         discount_string = row[\"Quantity based Discount\"].split(\" \")\n",
    "#         discount = float(\"\".join(discount_string[5][1:].split(\",\")))\n",
    "#         # min_quantity = int(discount_string[0])\n",
    "#         # max_quantity = int(discount_string[2])\n",
    "#         new_offer_price = row[\"Offer Price\"] - discount\n",
    "#         # temp = 25000/new_offer_price\n",
    "#         # print(\"Values:\", row[\"Offer Price\"], \"|\", discount, \"|\", new_offer_price, \"|\", temp, \"|\", min_quantity, \"|\", max_quantity)\n",
    "#         # if temp >= min_quantity and temp <= max_quantity:\n",
    "#         # if new_offer_price * row[\"Min Quantity / Consignee\"]\n",
    "#         row[\"Offer Price\"] = new_offer_price\n",
    "#         print(\"Price changed:\", index)\n",
    "#     if int(row[\"Min Quantity / Consignee\"]) * row[\"Offer Price\"] > 25000:\n",
    "#         filtered_df.drop(index)\n",
    "#         print(\"Dropped:\", index)"
   ]
  },
  {
   "cell_type": "code",
   "execution_count": 102,
   "id": "dc613471-0b43-4159-ad3a-ae3373bfc3ea",
   "metadata": {},
   "outputs": [],
   "source": [
    "competitors_min_price = competitors_details['Final Price'].min()"
   ]
  },
  {
   "cell_type": "code",
   "execution_count": 103,
   "id": "8fa0eaef",
   "metadata": {},
   "outputs": [
    {
     "name": "stdout",
     "output_type": "stream",
     "text": [
      "Minimum price: nan\n"
     ]
    }
   ],
   "source": [
    "if competitors_min_price == \"\":\n",
    "    competitors_min_price = \"Put your price\"\n",
    "print(f\"Minimum price: {competitors_min_price}\")"
   ]
  },
  {
   "cell_type": "code",
   "execution_count": 109,
   "id": "3c92a6b4",
   "metadata": {},
   "outputs": [
    {
     "data": {
      "text/plain": [
       "float"
      ]
     },
     "execution_count": 109,
     "metadata": {},
     "output_type": "execute_result"
    }
   ],
   "source": []
  },
  {
   "cell_type": "code",
   "execution_count": 104,
   "id": "106021ab-8e48-4768-8e22-fd86f7bab5a6",
   "metadata": {},
   "outputs": [
    {
     "data": {
      "text/plain": [
       "nan"
      ]
     },
     "execution_count": 104,
     "metadata": {},
     "output_type": "execute_result"
    }
   ],
   "source": [
    "competitors_min_price"
   ]
  },
  {
   "cell_type": "code",
   "execution_count": 105,
   "id": "5d7246c3-cdda-4bd3-9b5a-ebf9c07328db",
   "metadata": {},
   "outputs": [],
   "source": [
    "product_price = dataframe[\"CURRENT PRICE\"][p_index]"
   ]
  },
  {
   "cell_type": "code",
   "execution_count": 106,
   "id": "f194fac7",
   "metadata": {},
   "outputs": [
    {
     "data": {
      "text/plain": [
       "0"
      ]
     },
     "execution_count": 106,
     "metadata": {},
     "output_type": "execute_result"
    }
   ],
   "source": [
    "product_price"
   ]
  },
  {
   "cell_type": "code",
   "execution_count": 107,
   "id": "7744e017-badb-4347-ad68-b4c60b1d79ab",
   "metadata": {},
   "outputs": [
    {
     "data": {
      "text/plain": [
       "False"
      ]
     },
     "execution_count": 107,
     "metadata": {},
     "output_type": "execute_result"
    }
   ],
   "source": [
    "product_price > competitors_min_price"
   ]
  }
 ],
 "metadata": {
  "kernelspec": {
   "display_name": ".venv",
   "language": "python",
   "name": "python3"
  },
  "language_info": {
   "codemirror_mode": {
    "name": "ipython",
    "version": 3
   },
   "file_extension": ".py",
   "mimetype": "text/x-python",
   "name": "python",
   "nbconvert_exporter": "python",
   "pygments_lexer": "ipython3",
   "version": "3.12.0"
  }
 },
 "nbformat": 4,
 "nbformat_minor": 5
}
