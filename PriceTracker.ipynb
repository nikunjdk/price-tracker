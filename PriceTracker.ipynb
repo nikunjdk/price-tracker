{
 "cells": [
  {
   "cell_type": "code",
   "execution_count": 1,
   "id": "da165c68-26b1-480c-976a-e98c7af20337",
   "metadata": {},
   "outputs": [],
   "source": [
    "import requests\n",
    "import re\n",
    "import pandas as pd\n",
    "from bs4 import BeautifulSoup"
   ]
  },
  {
   "cell_type": "code",
   "execution_count": 6,
   "id": "04ca405f-22d2-4ac3-bdf6-935080f0af14",
   "metadata": {},
   "outputs": [],
   "source": [
    "dataframe = pd.read_excel(\"Gem comparison products copy.xlsx\")\n",
    "# dataframe = dataframe.loc[:, ['URL', 'CURRENT PRICE']]\n",
    "p_index = 0"
   ]
  },
  {
   "cell_type": "code",
   "execution_count": 3,
   "id": "37edfdf0",
   "metadata": {},
   "outputs": [
    {
     "data": {
      "text/html": [
       "<div>\n",
       "<style scoped>\n",
       "    .dataframe tbody tr th:only-of-type {\n",
       "        vertical-align: middle;\n",
       "    }\n",
       "\n",
       "    .dataframe tbody tr th {\n",
       "        vertical-align: top;\n",
       "    }\n",
       "\n",
       "    .dataframe thead th {\n",
       "        text-align: right;\n",
       "    }\n",
       "</style>\n",
       "<table border=\"1\" class=\"dataframe\">\n",
       "  <thead>\n",
       "    <tr style=\"text-align: right;\">\n",
       "      <th></th>\n",
       "      <th>URL</th>\n",
       "      <th>CURRENT PRICE</th>\n",
       "      <th>QUANTITY</th>\n",
       "      <th>DELIVERY LOCATIONS</th>\n",
       "    </tr>\n",
       "  </thead>\n",
       "  <tbody>\n",
       "    <tr>\n",
       "      <th>0</th>\n",
       "      <td>https://mkp.gem.gov.in/mcb-miniature-circuit-b...</td>\n",
       "      <td>0</td>\n",
       "      <td>10.0</td>\n",
       "      <td>TAMIL NADU, All India</td>\n",
       "    </tr>\n",
       "    <tr>\n",
       "      <th>1</th>\n",
       "      <td>https://mkp.gem.gov.in/mcb-miniature-circuit-b...</td>\n",
       "      <td>0</td>\n",
       "      <td>NaN</td>\n",
       "      <td>NaN</td>\n",
       "    </tr>\n",
       "    <tr>\n",
       "      <th>2</th>\n",
       "      <td>http://mkp.gem.gov.in/mcb-miniature-circuit-br...</td>\n",
       "      <td>0</td>\n",
       "      <td>NaN</td>\n",
       "      <td>NaN</td>\n",
       "    </tr>\n",
       "    <tr>\n",
       "      <th>3</th>\n",
       "      <td>https://mkp.gem.gov.in/mcb-miniature-circuit-b...</td>\n",
       "      <td>0</td>\n",
       "      <td>NaN</td>\n",
       "      <td>NaN</td>\n",
       "    </tr>\n",
       "  </tbody>\n",
       "</table>\n",
       "</div>"
      ],
      "text/plain": [
       "                                                 URL  CURRENT PRICE  QUANTITY  \\\n",
       "0  https://mkp.gem.gov.in/mcb-miniature-circuit-b...              0      10.0   \n",
       "1  https://mkp.gem.gov.in/mcb-miniature-circuit-b...              0       NaN   \n",
       "2  http://mkp.gem.gov.in/mcb-miniature-circuit-br...              0       NaN   \n",
       "3  https://mkp.gem.gov.in/mcb-miniature-circuit-b...              0       NaN   \n",
       "\n",
       "      DELIVERY LOCATIONS  \n",
       "0  TAMIL NADU, All India  \n",
       "1                    NaN  \n",
       "2                    NaN  \n",
       "3                    NaN  "
      ]
     },
     "execution_count": 3,
     "metadata": {},
     "output_type": "execute_result"
    }
   ],
   "source": [
    "dataframe.head()"
   ]
  },
  {
   "cell_type": "code",
   "execution_count": 10,
   "id": "5e69edd7",
   "metadata": {},
   "outputs": [
    {
     "data": {
      "text/plain": [
       "str"
      ]
     },
     "execution_count": 10,
     "metadata": {},
     "output_type": "execute_result"
    }
   ],
   "source": [
    "type(dataframe[\"DELIVERY LOCATIONS\"][p_index])"
   ]
  },
  {
   "cell_type": "code",
   "execution_count": 7,
   "id": "0fcb9ad2-b880-46cf-8516-68db25154169",
   "metadata": {},
   "outputs": [
    {
     "name": "stdout",
     "output_type": "stream",
     "text": [
      "https://mkp.gem.gov.in/mcb-miniature-circuit-breakers-c-operation-per-iec/4a-tp-c-mcb/p-5116877-16761642912-cat.html#variant_id=5116877-16761642912\n"
     ]
    }
   ],
   "source": [
    "product_url = dataframe[\"URL\"][p_index]\n",
    "print(product_url)"
   ]
  },
  {
   "cell_type": "code",
   "execution_count": 47,
   "id": "a24ef6f5-eff7-427c-b6d8-4a18bae4bc80",
   "metadata": {},
   "outputs": [],
   "source": [
    "# product_url = \"https://mkp.gem.gov.in/electric-ceiling-type-fan-v2-per-374/bajaj-bldc-28-w/p-5116877-29311430059-cat.html\""
   ]
  },
  {
   "cell_type": "code",
   "execution_count": 48,
   "id": "4f7cebef",
   "metadata": {},
   "outputs": [],
   "source": [
    "# product_url = \"https://mkp.gem.gov.in/mcb-miniature-circuit-breakers-c-operation-per-iec/20a-sp-c-mcb/p-5116877-295066335-cat.html#variant_id=5116877-295066335\""
   ]
  },
  {
   "cell_type": "code",
   "execution_count": 8,
   "id": "2baf1d13-c907-40ab-8f23-64d97e19149b",
   "metadata": {},
   "outputs": [],
   "source": [
    "competitors_url = re.sub(\".html.*\", \"/all_sellers.html\", product_url)"
   ]
  },
  {
   "cell_type": "code",
   "execution_count": 50,
   "id": "8edea2bb-71ab-4f51-8e69-f17deb73cb50",
   "metadata": {},
   "outputs": [],
   "source": [
    "competitors_url_response = requests.get(competitors_url)"
   ]
  },
  {
   "cell_type": "code",
   "execution_count": 51,
   "id": "53cafee9-ab9b-4a19-82cb-4b7045c5d987",
   "metadata": {},
   "outputs": [],
   "source": [
    "competitors_url_soup = BeautifulSoup(competitors_url_response.content, 'html.parser')"
   ]
  },
  {
   "cell_type": "code",
   "execution_count": 52,
   "id": "38b31410-adbb-4be6-98b8-bb67f5ce2db7",
   "metadata": {},
   "outputs": [],
   "source": [
    "competitors_prices_table = competitors_url_soup.find('div', attrs={'id': 'sellers-table-wrap'})\n",
    "competitors_prices_table = competitors_prices_table.find('table')\n",
    "for div in competitors_prices_table.find_all(\"div\", {'class':'seller-info-table'}):\n",
    "    div.decompose()"
   ]
  },
  {
   "cell_type": "code",
   "execution_count": 53,
   "id": "4ec8224a-af65-419a-9294-fa9c48651e00",
   "metadata": {},
   "outputs": [],
   "source": [
    "table_rows = competitors_prices_table.find_all('tr')\n",
    "\n",
    "res = []\n",
    "for i, tr in enumerate(table_rows):\n",
    "    td = tr.find_all('td')\n",
    "    row = [tr.text.strip() for tr in td]\n",
    "    if row:\n",
    "        res.append(row)\n",
    "\n",
    "df = pd.DataFrame(res, columns=[\"Sellers\", \"Offer Price\", \"Delivery Locations\", \"Quantity based Discount\", \"Quantity Available\", \"Min Quantity / Consignee\", \"Offer Product As\", \"Country of Origin\"])\n",
    "df = df[[\"Offer Price\", \"Delivery Locations\", \"Quantity based Discount\", \"Min Quantity / Consignee\"]]"
   ]
  },
  {
   "cell_type": "code",
   "execution_count": 54,
   "id": "1fdcc552",
   "metadata": {},
   "outputs": [
    {
     "data": {
      "text/html": [
       "<div>\n",
       "<style scoped>\n",
       "    .dataframe tbody tr th:only-of-type {\n",
       "        vertical-align: middle;\n",
       "    }\n",
       "\n",
       "    .dataframe tbody tr th {\n",
       "        vertical-align: top;\n",
       "    }\n",
       "\n",
       "    .dataframe thead th {\n",
       "        text-align: right;\n",
       "    }\n",
       "</style>\n",
       "<table border=\"1\" class=\"dataframe\">\n",
       "  <thead>\n",
       "    <tr style=\"text-align: right;\">\n",
       "      <th></th>\n",
       "      <th>Offer Price</th>\n",
       "      <th>Delivery Locations</th>\n",
       "      <th>Quantity based Discount</th>\n",
       "      <th>Min Quantity / Consignee</th>\n",
       "    </tr>\n",
       "  </thead>\n",
       "  <tbody>\n",
       "    <tr>\n",
       "      <th>0</th>\n",
       "      <td>₹4,500.00</td>\n",
       "      <td>State(s) - KARNATAKA, TAMIL NADU, JAMMU &amp; KASH...</td>\n",
       "      <td></td>\n",
       "      <td>15</td>\n",
       "    </tr>\n",
       "    <tr>\n",
       "      <th>1</th>\n",
       "      <td>₹2,258.32</td>\n",
       "      <td>State(s) - KARNATAKA, TAMIL NADU, JAMMU &amp; KASH...</td>\n",
       "      <td></td>\n",
       "      <td>10</td>\n",
       "    </tr>\n",
       "    <tr>\n",
       "      <th>2</th>\n",
       "      <td>₹4,600.00</td>\n",
       "      <td>State(s) - KARNATAKA, TAMIL NADU, JAMMU &amp; KASH...</td>\n",
       "      <td>8 to 100 units = ₹2,341.86</td>\n",
       "      <td>10</td>\n",
       "    </tr>\n",
       "    <tr>\n",
       "      <th>3</th>\n",
       "      <td>₹3,990.00</td>\n",
       "      <td>State(s) - KARNATAKA, TAMIL NADU, JAMMU &amp; KASH...</td>\n",
       "      <td>8 to 49 units = ₹1,731.66</td>\n",
       "      <td>8</td>\n",
       "    </tr>\n",
       "    <tr>\n",
       "      <th>4</th>\n",
       "      <td>₹4,650.00</td>\n",
       "      <td>State(s) - KARNATAKA, TAMIL NADU, JAMMU &amp; KASH...</td>\n",
       "      <td>2 to 9 units = ₹785.38\\n 10 to 14 units = ₹2,2...</td>\n",
       "      <td>1</td>\n",
       "    </tr>\n",
       "    <tr>\n",
       "      <th>5</th>\n",
       "      <td>₹3,684.89</td>\n",
       "      <td>State(s) - KARNATAKA, TAMIL NADU, JAMMU &amp; KASH...</td>\n",
       "      <td></td>\n",
       "      <td>12</td>\n",
       "    </tr>\n",
       "    <tr>\n",
       "      <th>6</th>\n",
       "      <td>₹4,375.21</td>\n",
       "      <td>State(s) - KARNATAKA, TAMIL NADU, JAMMU &amp; KASH...</td>\n",
       "      <td></td>\n",
       "      <td>2</td>\n",
       "    </tr>\n",
       "    <tr>\n",
       "      <th>7</th>\n",
       "      <td>₹2,410.19</td>\n",
       "      <td>All India</td>\n",
       "      <td></td>\n",
       "      <td>10</td>\n",
       "    </tr>\n",
       "    <tr>\n",
       "      <th>8</th>\n",
       "      <td>₹2,979.79</td>\n",
       "      <td>All India</td>\n",
       "      <td></td>\n",
       "      <td>12</td>\n",
       "    </tr>\n",
       "    <tr>\n",
       "      <th>9</th>\n",
       "      <td>₹4,000.00</td>\n",
       "      <td>State(s) - KARNATAKA, TAMIL NADU, JAMMU &amp; KASH...</td>\n",
       "      <td></td>\n",
       "      <td>25</td>\n",
       "    </tr>\n",
       "  </tbody>\n",
       "</table>\n",
       "</div>"
      ],
      "text/plain": [
       "  Offer Price                                 Delivery Locations  \\\n",
       "0   ₹4,500.00  State(s) - KARNATAKA, TAMIL NADU, JAMMU & KASH...   \n",
       "1   ₹2,258.32  State(s) - KARNATAKA, TAMIL NADU, JAMMU & KASH...   \n",
       "2   ₹4,600.00  State(s) - KARNATAKA, TAMIL NADU, JAMMU & KASH...   \n",
       "3   ₹3,990.00  State(s) - KARNATAKA, TAMIL NADU, JAMMU & KASH...   \n",
       "4   ₹4,650.00  State(s) - KARNATAKA, TAMIL NADU, JAMMU & KASH...   \n",
       "5   ₹3,684.89  State(s) - KARNATAKA, TAMIL NADU, JAMMU & KASH...   \n",
       "6   ₹4,375.21  State(s) - KARNATAKA, TAMIL NADU, JAMMU & KASH...   \n",
       "7   ₹2,410.19                                          All India   \n",
       "8   ₹2,979.79                                          All India   \n",
       "9   ₹4,000.00  State(s) - KARNATAKA, TAMIL NADU, JAMMU & KASH...   \n",
       "\n",
       "                             Quantity based Discount Min Quantity / Consignee  \n",
       "0                                                                          15  \n",
       "1                                                                          10  \n",
       "2                         8 to 100 units = ₹2,341.86                       10  \n",
       "3                          8 to 49 units = ₹1,731.66                        8  \n",
       "4  2 to 9 units = ₹785.38\\n 10 to 14 units = ₹2,2...                        1  \n",
       "5                                                                          12  \n",
       "6                                                                           2  \n",
       "7                                                                          10  \n",
       "8                                                                          12  \n",
       "9                                                                          25  "
      ]
     },
     "execution_count": 54,
     "metadata": {},
     "output_type": "execute_result"
    }
   ],
   "source": [
    "df"
   ]
  },
  {
   "cell_type": "code",
   "execution_count": 65,
   "id": "5b10bb09",
   "metadata": {},
   "outputs": [],
   "source": [
    "delivery_locations_regex = \"|\".join([\"TAMIL NADU\", \"All India\"])\n",
    "competitors_details = df[\n",
    "    df[\"Delivery Locations\"].str.contains(delivery_locations_regex)\n",
    "]"
   ]
  },
  {
   "cell_type": "code",
   "execution_count": 82,
   "id": "306d450a-c806-4871-b34c-3d440596c81f",
   "metadata": {},
   "outputs": [
    {
     "data": {
      "text/html": [
       "<div>\n",
       "<style scoped>\n",
       "    .dataframe tbody tr th:only-of-type {\n",
       "        vertical-align: middle;\n",
       "    }\n",
       "\n",
       "    .dataframe tbody tr th {\n",
       "        vertical-align: top;\n",
       "    }\n",
       "\n",
       "    .dataframe thead th {\n",
       "        text-align: right;\n",
       "    }\n",
       "</style>\n",
       "<table border=\"1\" class=\"dataframe\">\n",
       "  <thead>\n",
       "    <tr style=\"text-align: right;\">\n",
       "      <th></th>\n",
       "      <th>Offer Price</th>\n",
       "      <th>Delivery Locations</th>\n",
       "      <th>Quantity based Discount</th>\n",
       "      <th>Min Quantity / Consignee</th>\n",
       "      <th>Minimum Price</th>\n",
       "    </tr>\n",
       "  </thead>\n",
       "  <tbody>\n",
       "    <tr>\n",
       "      <th>0</th>\n",
       "      <td>4500.0</td>\n",
       "      <td>State(s) - KARNATAKA, TAMIL NADU, JAMMU &amp; KASH...</td>\n",
       "      <td></td>\n",
       "      <td>15</td>\n",
       "      <td>4500.00</td>\n",
       "    </tr>\n",
       "    <tr>\n",
       "      <th>1</th>\n",
       "      <td>2258.32</td>\n",
       "      <td>State(s) - KARNATAKA, TAMIL NADU, JAMMU &amp; KASH...</td>\n",
       "      <td></td>\n",
       "      <td>10</td>\n",
       "      <td>2258.32</td>\n",
       "    </tr>\n",
       "    <tr>\n",
       "      <th>2</th>\n",
       "      <td>4600.0</td>\n",
       "      <td>State(s) - KARNATAKA, TAMIL NADU, JAMMU &amp; KASH...</td>\n",
       "      <td>8 to 100 units = ₹2,341.86</td>\n",
       "      <td>10</td>\n",
       "      <td>2258.14</td>\n",
       "    </tr>\n",
       "    <tr>\n",
       "      <th>3</th>\n",
       "      <td>3990.0</td>\n",
       "      <td>State(s) - KARNATAKA, TAMIL NADU, JAMMU &amp; KASH...</td>\n",
       "      <td>8 to 49 units = ₹1,731.66</td>\n",
       "      <td>8</td>\n",
       "      <td>2258.34</td>\n",
       "    </tr>\n",
       "    <tr>\n",
       "      <th>4</th>\n",
       "      <td>4650.0</td>\n",
       "      <td>State(s) - KARNATAKA, TAMIL NADU, JAMMU &amp; KASH...</td>\n",
       "      <td>2 to 9 units = ₹785.38\\n 10 to 14 units = ₹2,2...</td>\n",
       "      <td>1</td>\n",
       "      <td>2398.94</td>\n",
       "    </tr>\n",
       "    <tr>\n",
       "      <th>5</th>\n",
       "      <td>3684.89</td>\n",
       "      <td>State(s) - KARNATAKA, TAMIL NADU, JAMMU &amp; KASH...</td>\n",
       "      <td></td>\n",
       "      <td>12</td>\n",
       "      <td>3684.89</td>\n",
       "    </tr>\n",
       "    <tr>\n",
       "      <th>6</th>\n",
       "      <td>4375.21</td>\n",
       "      <td>State(s) - KARNATAKA, TAMIL NADU, JAMMU &amp; KASH...</td>\n",
       "      <td></td>\n",
       "      <td>2</td>\n",
       "      <td>4375.21</td>\n",
       "    </tr>\n",
       "    <tr>\n",
       "      <th>7</th>\n",
       "      <td>2410.19</td>\n",
       "      <td>All India</td>\n",
       "      <td></td>\n",
       "      <td>10</td>\n",
       "      <td>2410.19</td>\n",
       "    </tr>\n",
       "    <tr>\n",
       "      <th>8</th>\n",
       "      <td>2979.79</td>\n",
       "      <td>All India</td>\n",
       "      <td></td>\n",
       "      <td>12</td>\n",
       "      <td>2979.79</td>\n",
       "    </tr>\n",
       "    <tr>\n",
       "      <th>9</th>\n",
       "      <td>4000.0</td>\n",
       "      <td>State(s) - KARNATAKA, TAMIL NADU, JAMMU &amp; KASH...</td>\n",
       "      <td></td>\n",
       "      <td>25</td>\n",
       "      <td>4000.00</td>\n",
       "    </tr>\n",
       "  </tbody>\n",
       "</table>\n",
       "</div>"
      ],
      "text/plain": [
       "  Offer Price                                 Delivery Locations  \\\n",
       "0      4500.0  State(s) - KARNATAKA, TAMIL NADU, JAMMU & KASH...   \n",
       "1     2258.32  State(s) - KARNATAKA, TAMIL NADU, JAMMU & KASH...   \n",
       "2      4600.0  State(s) - KARNATAKA, TAMIL NADU, JAMMU & KASH...   \n",
       "3      3990.0  State(s) - KARNATAKA, TAMIL NADU, JAMMU & KASH...   \n",
       "4      4650.0  State(s) - KARNATAKA, TAMIL NADU, JAMMU & KASH...   \n",
       "5     3684.89  State(s) - KARNATAKA, TAMIL NADU, JAMMU & KASH...   \n",
       "6     4375.21  State(s) - KARNATAKA, TAMIL NADU, JAMMU & KASH...   \n",
       "7     2410.19                                          All India   \n",
       "8     2979.79                                          All India   \n",
       "9      4000.0  State(s) - KARNATAKA, TAMIL NADU, JAMMU & KASH...   \n",
       "\n",
       "                             Quantity based Discount Min Quantity / Consignee  \\\n",
       "0                                                                          15   \n",
       "1                                                                          10   \n",
       "2                         8 to 100 units = ₹2,341.86                       10   \n",
       "3                          8 to 49 units = ₹1,731.66                        8   \n",
       "4  2 to 9 units = ₹785.38\\n 10 to 14 units = ₹2,2...                        1   \n",
       "5                                                                          12   \n",
       "6                                                                           2   \n",
       "7                                                                          10   \n",
       "8                                                                          12   \n",
       "9                                                                          25   \n",
       "\n",
       "   Minimum Price  \n",
       "0        4500.00  \n",
       "1        2258.32  \n",
       "2        2258.14  \n",
       "3        2258.34  \n",
       "4        2398.94  \n",
       "5        3684.89  \n",
       "6        4375.21  \n",
       "7        2410.19  \n",
       "8        2979.79  \n",
       "9        4000.00  "
      ]
     },
     "execution_count": 82,
     "metadata": {},
     "output_type": "execute_result"
    }
   ],
   "source": [
    "competitors_details"
   ]
  },
  {
   "cell_type": "code",
   "execution_count": 69,
   "id": "02fc914f",
   "metadata": {},
   "outputs": [],
   "source": [
    "competitors_details.loc[:, \"Offer Price\"] = (\n",
    "    competitors_details.loc[:, \"Offer Price\"].str.replace(\"₹\", \"\").str.replace(\",\", \"\").astype(float)\n",
    ")"
   ]
  },
  {
   "cell_type": "code",
   "execution_count": 71,
   "id": "2672cdc8",
   "metadata": {},
   "outputs": [],
   "source": [
    "def calculate_minimum_price(row, quantity):\n",
    "    if (\n",
    "        pd.isnull(row[\"Quantity based Discount\"])\n",
    "        or row[\"Quantity based Discount\"] == \"\"\n",
    "    ):\n",
    "        return row[\"Offer Price\"]\n",
    "    else:\n",
    "        discounts = row[\"Quantity based Discount\"].split(\"\\n\")\n",
    "        final_price = row[\"Offer Price\"]\n",
    "        for discount in discounts:\n",
    "            units, discount_amount = discount.split(\" = \")\n",
    "            discount_amount = float(discount_amount.replace(\"₹\", \"\").replace(\",\", \"\"))\n",
    "            start, end = map(int, re.findall(r\"\\d+\", units))\n",
    "            if quantity > 0:\n",
    "                if start <= quantity <= end:\n",
    "                    return row[\"Offer Price\"] - discount_amount\n",
    "            else:\n",
    "                final_price = (\n",
    "                    row[\"Offer Price\"] - discount_amount\n",
    "                    if row[\"Offer Price\"] - discount_amount < final_price\n",
    "                    else final_price\n",
    "                )\n",
    "        return final_price"
   ]
  },
  {
   "cell_type": "code",
   "execution_count": 81,
   "id": "ccd18cc5",
   "metadata": {},
   "outputs": [],
   "source": [
    "competitors_details.loc[:, \"Minimum Price\"] = (\n",
    "    competitors_details.apply(lambda row: calculate_minimum_price(row, 11), axis=1)\n",
    ")"
   ]
  },
  {
   "cell_type": "code",
   "execution_count": 83,
   "id": "1502d6f8",
   "metadata": {},
   "outputs": [
    {
     "data": {
      "text/html": [
       "<div>\n",
       "<style scoped>\n",
       "    .dataframe tbody tr th:only-of-type {\n",
       "        vertical-align: middle;\n",
       "    }\n",
       "\n",
       "    .dataframe tbody tr th {\n",
       "        vertical-align: top;\n",
       "    }\n",
       "\n",
       "    .dataframe thead th {\n",
       "        text-align: right;\n",
       "    }\n",
       "</style>\n",
       "<table border=\"1\" class=\"dataframe\">\n",
       "  <thead>\n",
       "    <tr style=\"text-align: right;\">\n",
       "      <th></th>\n",
       "      <th>Offer Price</th>\n",
       "      <th>Delivery Locations</th>\n",
       "      <th>Quantity based Discount</th>\n",
       "      <th>Min Quantity / Consignee</th>\n",
       "      <th>Minimum Price</th>\n",
       "    </tr>\n",
       "  </thead>\n",
       "  <tbody>\n",
       "    <tr>\n",
       "      <th>0</th>\n",
       "      <td>4500.0</td>\n",
       "      <td>State(s) - KARNATAKA, TAMIL NADU, JAMMU &amp; KASH...</td>\n",
       "      <td></td>\n",
       "      <td>15</td>\n",
       "      <td>4500.00</td>\n",
       "    </tr>\n",
       "    <tr>\n",
       "      <th>1</th>\n",
       "      <td>2258.32</td>\n",
       "      <td>State(s) - KARNATAKA, TAMIL NADU, JAMMU &amp; KASH...</td>\n",
       "      <td></td>\n",
       "      <td>10</td>\n",
       "      <td>2258.32</td>\n",
       "    </tr>\n",
       "    <tr>\n",
       "      <th>2</th>\n",
       "      <td>4600.0</td>\n",
       "      <td>State(s) - KARNATAKA, TAMIL NADU, JAMMU &amp; KASH...</td>\n",
       "      <td>8 to 100 units = ₹2,341.86</td>\n",
       "      <td>10</td>\n",
       "      <td>2258.14</td>\n",
       "    </tr>\n",
       "    <tr>\n",
       "      <th>3</th>\n",
       "      <td>3990.0</td>\n",
       "      <td>State(s) - KARNATAKA, TAMIL NADU, JAMMU &amp; KASH...</td>\n",
       "      <td>8 to 49 units = ₹1,731.66</td>\n",
       "      <td>8</td>\n",
       "      <td>2258.34</td>\n",
       "    </tr>\n",
       "    <tr>\n",
       "      <th>4</th>\n",
       "      <td>4650.0</td>\n",
       "      <td>State(s) - KARNATAKA, TAMIL NADU, JAMMU &amp; KASH...</td>\n",
       "      <td>2 to 9 units = ₹785.38\\n 10 to 14 units = ₹2,2...</td>\n",
       "      <td>1</td>\n",
       "      <td>2398.94</td>\n",
       "    </tr>\n",
       "    <tr>\n",
       "      <th>5</th>\n",
       "      <td>3684.89</td>\n",
       "      <td>State(s) - KARNATAKA, TAMIL NADU, JAMMU &amp; KASH...</td>\n",
       "      <td></td>\n",
       "      <td>12</td>\n",
       "      <td>3684.89</td>\n",
       "    </tr>\n",
       "    <tr>\n",
       "      <th>6</th>\n",
       "      <td>4375.21</td>\n",
       "      <td>State(s) - KARNATAKA, TAMIL NADU, JAMMU &amp; KASH...</td>\n",
       "      <td></td>\n",
       "      <td>2</td>\n",
       "      <td>4375.21</td>\n",
       "    </tr>\n",
       "    <tr>\n",
       "      <th>7</th>\n",
       "      <td>2410.19</td>\n",
       "      <td>All India</td>\n",
       "      <td></td>\n",
       "      <td>10</td>\n",
       "      <td>2410.19</td>\n",
       "    </tr>\n",
       "    <tr>\n",
       "      <th>8</th>\n",
       "      <td>2979.79</td>\n",
       "      <td>All India</td>\n",
       "      <td></td>\n",
       "      <td>12</td>\n",
       "      <td>2979.79</td>\n",
       "    </tr>\n",
       "    <tr>\n",
       "      <th>9</th>\n",
       "      <td>4000.0</td>\n",
       "      <td>State(s) - KARNATAKA, TAMIL NADU, JAMMU &amp; KASH...</td>\n",
       "      <td></td>\n",
       "      <td>25</td>\n",
       "      <td>4000.00</td>\n",
       "    </tr>\n",
       "  </tbody>\n",
       "</table>\n",
       "</div>"
      ],
      "text/plain": [
       "  Offer Price                                 Delivery Locations  \\\n",
       "0      4500.0  State(s) - KARNATAKA, TAMIL NADU, JAMMU & KASH...   \n",
       "1     2258.32  State(s) - KARNATAKA, TAMIL NADU, JAMMU & KASH...   \n",
       "2      4600.0  State(s) - KARNATAKA, TAMIL NADU, JAMMU & KASH...   \n",
       "3      3990.0  State(s) - KARNATAKA, TAMIL NADU, JAMMU & KASH...   \n",
       "4      4650.0  State(s) - KARNATAKA, TAMIL NADU, JAMMU & KASH...   \n",
       "5     3684.89  State(s) - KARNATAKA, TAMIL NADU, JAMMU & KASH...   \n",
       "6     4375.21  State(s) - KARNATAKA, TAMIL NADU, JAMMU & KASH...   \n",
       "7     2410.19                                          All India   \n",
       "8     2979.79                                          All India   \n",
       "9      4000.0  State(s) - KARNATAKA, TAMIL NADU, JAMMU & KASH...   \n",
       "\n",
       "                             Quantity based Discount Min Quantity / Consignee  \\\n",
       "0                                                                          15   \n",
       "1                                                                          10   \n",
       "2                         8 to 100 units = ₹2,341.86                       10   \n",
       "3                          8 to 49 units = ₹1,731.66                        8   \n",
       "4  2 to 9 units = ₹785.38\\n 10 to 14 units = ₹2,2...                        1   \n",
       "5                                                                          12   \n",
       "6                                                                           2   \n",
       "7                                                                          10   \n",
       "8                                                                          12   \n",
       "9                                                                          25   \n",
       "\n",
       "   Minimum Price  \n",
       "0        4500.00  \n",
       "1        2258.32  \n",
       "2        2258.14  \n",
       "3        2258.34  \n",
       "4        2398.94  \n",
       "5        3684.89  \n",
       "6        4375.21  \n",
       "7        2410.19  \n",
       "8        2979.79  \n",
       "9        4000.00  "
      ]
     },
     "execution_count": 83,
     "metadata": {},
     "output_type": "execute_result"
    }
   ],
   "source": [
    "competitors_details"
   ]
  },
  {
   "cell_type": "code",
   "execution_count": null,
   "id": "6c00ade2",
   "metadata": {},
   "outputs": [],
   "source": [
    "# Drop rows where Min Quantity * Offer Price exceeds 25000\n",
    "competitors_details = competitors_details[\n",
    "    competitors_details[\"Min Quantity / Consignee\"].astype(int) * competitors_details[\"Offer Price\"]\n",
    "    <= 25000\n",
    "]"
   ]
  },
  {
   "cell_type": "code",
   "execution_count": null,
   "id": "cb674ac6",
   "metadata": {},
   "outputs": [
    {
     "data": {
      "text/html": [
       "<div>\n",
       "<style scoped>\n",
       "    .dataframe tbody tr th:only-of-type {\n",
       "        vertical-align: middle;\n",
       "    }\n",
       "\n",
       "    .dataframe tbody tr th {\n",
       "        vertical-align: top;\n",
       "    }\n",
       "\n",
       "    .dataframe thead th {\n",
       "        text-align: right;\n",
       "    }\n",
       "</style>\n",
       "<table border=\"1\" class=\"dataframe\">\n",
       "  <thead>\n",
       "    <tr style=\"text-align: right;\">\n",
       "      <th></th>\n",
       "      <th>Offer Price</th>\n",
       "      <th>Delivery Locations</th>\n",
       "      <th>Quantity based Discount</th>\n",
       "      <th>Min Quantity / Consignee</th>\n",
       "      <th>Final Price</th>\n",
       "    </tr>\n",
       "  </thead>\n",
       "  <tbody>\n",
       "    <tr>\n",
       "      <th>0</th>\n",
       "      <td>2099.99</td>\n",
       "      <td>All India</td>\n",
       "      <td></td>\n",
       "      <td>8</td>\n",
       "      <td>2099.99</td>\n",
       "    </tr>\n",
       "  </tbody>\n",
       "</table>\n",
       "</div>"
      ],
      "text/plain": [
       "   Offer Price Delivery Locations Quantity based Discount  \\\n",
       "0      2099.99          All India                           \n",
       "\n",
       "  Min Quantity / Consignee  Final Price  \n",
       "0                        8      2099.99  "
      ]
     },
     "execution_count": 20,
     "metadata": {},
     "output_type": "execute_result"
    }
   ],
   "source": [
    "competitors_details"
   ]
  },
  {
   "cell_type": "code",
   "execution_count": null,
   "id": "dc613471-0b43-4159-ad3a-ae3373bfc3ea",
   "metadata": {},
   "outputs": [],
   "source": [
    "competitors_min_price = competitors_details['Final Price'].min()"
   ]
  },
  {
   "cell_type": "code",
   "execution_count": null,
   "id": "8fa0eaef",
   "metadata": {},
   "outputs": [
    {
     "name": "stdout",
     "output_type": "stream",
     "text": [
      "Minimum price: 2099.99\n"
     ]
    }
   ],
   "source": [
    "if competitors_min_price == \"\":\n",
    "    competitors_min_price = \"Put your price\"\n",
    "print(f\"Minimum price: {competitors_min_price}\")"
   ]
  },
  {
   "cell_type": "code",
   "execution_count": null,
   "id": "3c92a6b4",
   "metadata": {},
   "outputs": [],
   "source": []
  },
  {
   "cell_type": "code",
   "execution_count": null,
   "id": "106021ab-8e48-4768-8e22-fd86f7bab5a6",
   "metadata": {},
   "outputs": [
    {
     "data": {
      "text/plain": [
       "2099.99"
      ]
     },
     "execution_count": 24,
     "metadata": {},
     "output_type": "execute_result"
    }
   ],
   "source": [
    "competitors_min_price"
   ]
  },
  {
   "cell_type": "code",
   "execution_count": null,
   "id": "5d7246c3-cdda-4bd3-9b5a-ebf9c07328db",
   "metadata": {},
   "outputs": [],
   "source": [
    "product_price = dataframe[\"CURRENT PRICE\"][p_index]"
   ]
  },
  {
   "cell_type": "code",
   "execution_count": null,
   "id": "f194fac7",
   "metadata": {},
   "outputs": [
    {
     "data": {
      "text/plain": [
       "0"
      ]
     },
     "execution_count": 26,
     "metadata": {},
     "output_type": "execute_result"
    }
   ],
   "source": [
    "product_price"
   ]
  },
  {
   "cell_type": "code",
   "execution_count": null,
   "id": "7744e017-badb-4347-ad68-b4c60b1d79ab",
   "metadata": {},
   "outputs": [
    {
     "data": {
      "text/plain": [
       "False"
      ]
     },
     "execution_count": 27,
     "metadata": {},
     "output_type": "execute_result"
    }
   ],
   "source": [
    "product_price > competitors_min_price"
   ]
  }
 ],
 "metadata": {
  "kernelspec": {
   "display_name": ".venv",
   "language": "python",
   "name": "python3"
  },
  "language_info": {
   "codemirror_mode": {
    "name": "ipython",
    "version": 3
   },
   "file_extension": ".py",
   "mimetype": "text/x-python",
   "name": "python",
   "nbconvert_exporter": "python",
   "pygments_lexer": "ipython3",
   "version": "3.12.0"
  }
 },
 "nbformat": 4,
 "nbformat_minor": 5
}
